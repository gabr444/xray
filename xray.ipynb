{
 "cells": [
  {
   "cell_type": "code",
   "execution_count": 1,
   "metadata": {},
   "outputs": [
    {
     "name": "stderr",
     "output_type": "stream",
     "text": [
      "2it [00:37, 18.61s/it]\n",
      "2it [00:00,  2.08it/s]\n"
     ]
    },
    {
     "data": {
      "text/plain": [
       "<Figure size 640x480 with 1 Axes>"
      ]
     },
     "metadata": {},
     "output_type": "display_data"
    }
   ],
   "source": [
    "import data\n",
    "import torch\n",
    "import numpy as np\n",
    "import torch.nn as nn\n",
    "import torch.nn.functional as F\n",
    "from torch import optim\n",
    "\n",
    "from torch.utils.data import Dataset, DataLoader\n",
    "import sys\n",
    "from tqdm import tqdm\n",
    "import cv2\n",
    "import matplotlib.pyplot as plt\n",
    "\n",
    "# Prepare training and evaluation data by using code from data.py file.\n",
    "x_train, y_train = data.prepData(data.paths['train'])\n",
    "x_val, y_val = data.prepData(data.paths['val'])\n",
    "\n",
    "# Show image example\n",
    "plt.imshow(cv2.cvtColor(x_train[0], cv2.COLOR_BGR2GRAY))\n",
    "plt.show()"
   ]
  },
  {
   "cell_type": "code",
   "execution_count": 2,
   "metadata": {},
   "outputs": [
    {
     "name": "stdout",
     "output_type": "stream",
     "text": [
      "Training on gpu\n"
     ]
    }
   ],
   "source": [
    "\n",
    "# Class for dataset (creating batches).\n",
    "class dataset(Dataset):\n",
    "    def __init__(self):\n",
    "        self.samples = len(x_train)\n",
    "        self.x_data = x_train\n",
    "        self.y_data = y_train\n",
    "\n",
    "    def __getitem__(self, idx):\n",
    "        return self.x_data[idx], self.y_data[idx]\n",
    "\n",
    "    def __len__(self):\n",
    "        return self.samples\n",
    "\n",
    "# Convolutional Neural Network. Used for images.\n",
    "class Net(nn.Module):\n",
    "    def __init__(self):\n",
    "        super().__init__()\n",
    "        # Use maxpool to reduce amount of pixels. Maxpool takes the max value of h*w pixels given and puts that one specific pixel into the new image.\n",
    "        self.pool = nn.MaxPool2d(2, 2)\n",
    "        self.dropout1 = nn.Dropout(0.5)\n",
    "        self.dropout2 = nn.Dropout(0.2)\n",
    "        # Set the first conv2d layer to a channel size of 3 (rgb) and the kernel size to 5 (5*5 is the amount of pixels it will process at a time)\n",
    "        self.c1 = nn.Conv2d(3, 16, 5)\n",
    "        self.c2 = nn.Conv2d(16, 32, 3)\n",
    "        self.c3 = nn.Conv2d(32, 64, 3)\n",
    "        self.c4 = nn.Conv2d(64, 128, 3)\n",
    "        # Input size of the first linear layer. Calculated from image in last cnn layer. Channels*height*width.\n",
    "        self.flattenedSize = 128*31*31\n",
    "        self.fc1 = nn.Linear(self.flattenedSize, 512)\n",
    "        self.fc2 = nn.Linear(512, 256)\n",
    "        self.fc3 = nn.Linear(256, 128)\n",
    "        self.fc4 = nn.Linear(128, 2)\n",
    "\n",
    "    def forward(self, x):\n",
    "        x = self.pool(F.relu(self.c1(x)))\n",
    "        x = self.pool(F.relu(self.c2(x)))\n",
    "        x = F.relu(self.c3(x))\n",
    "        x = F.relu(self.c4(x))\n",
    "        #print(x.shape)\n",
    "        # Flatten the image. Convert 2d to 1d to be used in linear layer.\n",
    "        x = x.view(-1, self.flattenedSize)\n",
    "        x = self.dropout1(F.relu(self.fc1(x)))\n",
    "        x = self.dropout2(F.relu(self.fc2(x)))\n",
    "        x = self.dropout2(F.relu(self.fc3(x)))\n",
    "        x = self.fc4(x)\n",
    "\n",
    "        return x\n",
    "    \n",
    "if torch.cuda.is_available():\n",
    "    device = torch.device(\"cuda:0\")\n",
    "    deviceType = \"gpu\"\n",
    "else:\n",
    "    device = torch.device(\"cpu\")\n",
    "    deviceType = \"cpu\"\n",
    "    \n",
    "print(\"Training on\", deviceType)\n",
    "    \n",
    "net = Net().to(device)\n"
   ]
  },
  {
   "cell_type": "code",
   "execution_count": 3,
   "metadata": {},
   "outputs": [
    {
     "name": "stdout",
     "output_type": "stream",
     "text": [
      "Training with 5 epochs\n"
     ]
    },
    {
     "name": "stderr",
     "output_type": "stream",
     "text": [
      "100%|██████████| 235/235 [00:17<00:00, 13.39it/s]\n"
     ]
    },
    {
     "name": "stdout",
     "output_type": "stream",
     "text": [
      "1 loss: 84.93009158223867\n",
      "Model accuracy: 91 / 100 = 0.91\n"
     ]
    },
    {
     "name": "stderr",
     "output_type": "stream",
     "text": [
      "100%|██████████| 235/235 [00:17<00:00, 13.42it/s]\n"
     ]
    },
    {
     "name": "stdout",
     "output_type": "stream",
     "text": [
      "2 loss: 27.582810942083597\n",
      "Model accuracy: 92 / 100 = 0.92\n"
     ]
    },
    {
     "name": "stderr",
     "output_type": "stream",
     "text": [
      "100%|██████████| 235/235 [00:17<00:00, 13.12it/s]\n"
     ]
    },
    {
     "name": "stdout",
     "output_type": "stream",
     "text": [
      "3 loss: 16.83756905887276\n",
      "Model accuracy: 91 / 100 = 0.91\n"
     ]
    },
    {
     "name": "stderr",
     "output_type": "stream",
     "text": [
      "100%|██████████| 235/235 [00:17<00:00, 13.26it/s]\n"
     ]
    },
    {
     "name": "stdout",
     "output_type": "stream",
     "text": [
      "4 loss: 8.108736883848906\n",
      "Model accuracy: 98 / 100 = 0.98\n"
     ]
    },
    {
     "name": "stderr",
     "output_type": "stream",
     "text": [
      "100%|██████████| 235/235 [00:17<00:00, 13.45it/s]\n"
     ]
    },
    {
     "name": "stdout",
     "output_type": "stream",
     "text": [
      "5 loss: 6.221674857661128\n",
      "Model accuracy: 97 / 100 = 0.97\n"
     ]
    },
    {
     "data": {
      "image/png": "[encoded data removed]",
      "text/plain": [
       "<Figure size 432x288 with 1 Axes>"
      ]
     },
     "metadata": {
      "needs_background": "light"
     },
     "output_type": "display_data"
    }
   ],
   "source": [
    "batch_size = 64\n",
    "datas = dataset()\n",
    "loader = DataLoader(dataset=datas, batch_size=batch_size, shuffle=True)\n",
    "# Use cross entropy loss function (classification)\n",
    "criterion = nn.CrossEntropyLoss()\n",
    "# Use the ADAM optimizer\n",
    "optimizer = torch.optim.Adam(net.parameters(), lr=0.0001)\n",
    "# Set number of epochs. This is the amount of times that the model will process the whole dataset.\n",
    "epochs = 5\n",
    "print(\"Training with\", epochs, \"epochs\")\n",
    "# List to graph the accuracy after each epoch.\n",
    "epochsList = []\n",
    "accuracyList = []\n",
    "for epoch in range(epochs):\n",
    "    totalLoss=0\n",
    "    # Use tqdm to show a progress bar for each epoch.\n",
    "    for (x_data, y_data) in tqdm(loader):\n",
    "        x_data = x_data.to(device)\n",
    "        y_data = y_data.to(device)\n",
    "        x_data = x_data.view(-1, 3, 150, 150)\n",
    "        output = net(x_data)\n",
    "        loss = criterion(output, y_data)\n",
    "        # Reset gradients from the previous update\n",
    "        optimizer.zero_grad()\n",
    "        # Backpropagate loss. Used to determine the change that's needed to the weights\n",
    "        loss.backward()\n",
    "        # Add loss to totalLoss\n",
    "        totalLoss+=loss.item()\n",
    "        # Make changes to weights\n",
    "        optimizer.step()\n",
    "    print(epoch+1, \"loss:\", totalLoss)\n",
    "    correct = 0\n",
    "    total = 0\n",
    "    with torch.no_grad():\n",
    "            net.eval()\n",
    "            for i in range(len(x_val)):\n",
    "                x = torch.from_numpy(x_val[i]).to(device)\n",
    "                x = x.view(-1, 3, 150, 150)\n",
    "                output = net(x)\n",
    "                predict = torch.argmax(output, dim=1)\n",
    "                if predict.item() == y_val[i]:\n",
    "                    correct+=1\n",
    "                total+=1\n",
    "    print(\"Model accuracy:\", correct, \"/\", total, \"=\", correct/total)\n",
    "    epochsList.append(epoch+1)\n",
    "    accuracyList.append(correct/total)\n",
    "    \n",
    "plt.plot(epochsList, accuracyList)\n",
    "plt.xlabel(\"Epochs\")\n",
    "plt.ylabel(\"Validation accuracy\")\n",
    "plt.show()\n",
    "    \n"
   ]
  }
 ],
 "metadata": {
  "kernelspec": {
   "display_name": "Python 3",
   "language": "python",
   "name": "python3"
  },
  "language_info": {
   "codemirror_mode": {
    "name": "ipython",
    "version": 3
   },
   "file_extension": ".py",
   "mimetype": "text/x-python",
   "name": "python",
   "nbconvert_exporter": "python",
   "pygments_lexer": "ipython3",
   "version": "3.5.3"
  }
 },
 "nbformat": 4,
 "nbformat_minor": 4
}
